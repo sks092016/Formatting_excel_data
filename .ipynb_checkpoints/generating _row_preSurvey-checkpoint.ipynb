{
 "cells": [
  {
   "cell_type": "markdown",
   "id": "2f63b817-c85b-4266-b73b-10f2eaea1870",
   "metadata": {},
   "source": [
    "['SrNo',\t\n",
    "'FROM  AND TO GP',\t\n",
    "'NHSHNo',\t\n",
    "'RoadWidth',\t\n",
    "'RowBoundaryLmt',\t\n",
    "'KMStoneFromA',\t\n",
    "'KMStoneToB',\t\n",
    "'SuveryDist',\t\n",
    "'LatAuth',\t\n",
    "'LongAuth',\t\n",
    "'LandmarkRHS',\t\n",
    "'VlgTwnPoint',\t\n",
    "'OFClaying',\t\n",
    "'RdCrossing Req',\t\n",
    "'ReasonRdCrossing',\t\n",
    "'UtilityLHS',\t\n",
    "'UtilityRHS',\t\n",
    "'UtilityChecked',\t\n",
    "'RowAuthorityName',\t\n",
    "'AuthorityAddress',\t\n",
    "'FeasibilityOfROWApproval',\t\n",
    "'TypeOfOverlapArea',\t\n",
    "'NearestLandmark',\t\n",
    "'LengthOfOverlapArea',\t\n",
    "'ExpansionInProg',\t\n",
    "'ExpansionPlanned',\t\n",
    "'TypeOfCrossing',\t\n",
    "'LatCrossing',\t\n",
    "'LongCrossing',\t\n",
    "'LatLandmark',\n",
    "'LongLandmark',\t\n",
    "'LengthOfCrossing',\t\n",
    "'SoilType',\t\n",
    "'RouteRdSidePts',\t\n",
    "'AlternateReq',\t\n",
    "'AlternateProp',\t\n",
    "'AlternatePathLgh',\t\n",
    "'Remarks']"
   ]
  }
 ],
 "metadata": {
  "kernelspec": {
   "display_name": "Python 3 (ipykernel)",
   "language": "python",
   "name": "python3"
  },
  "language_info": {
   "codemirror_mode": {
    "name": "ipython",
    "version": 3
   },
   "file_extension": ".py",
   "mimetype": "text/x-python",
   "name": "python",
   "nbconvert_exporter": "python",
   "pygments_lexer": "ipython3",
   "version": "3.13.1"
  }
 },
 "nbformat": 4,
 "nbformat_minor": 5
}
